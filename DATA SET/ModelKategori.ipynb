{
 "cells": [
  {
   "cell_type": "code",
   "execution_count": 99,
   "metadata": {},
   "outputs": [],
   "source": [
    "import pandas as pd"
   ]
  },
  {
   "cell_type": "code",
   "execution_count": 100,
   "metadata": {},
   "outputs": [],
   "source": [
    "data=pd.read_excel('ResponseGoogleForm.xlsx')"
   ]
  },
  {
   "cell_type": "code",
   "execution_count": 101,
   "metadata": {},
   "outputs": [
    {
     "data": {
      "text/plain": [
       "(346, 4)"
      ]
     },
     "execution_count": 101,
     "metadata": {},
     "output_type": "execute_result"
    }
   ],
   "source": [
    "data.shape"
   ]
  },
  {
   "cell_type": "code",
   "execution_count": 102,
   "metadata": {},
   "outputs": [
    {
     "data": {
      "text/html": [
       "<div>\n",
       "<style scoped>\n",
       "    .dataframe tbody tr th:only-of-type {\n",
       "        vertical-align: middle;\n",
       "    }\n",
       "\n",
       "    .dataframe tbody tr th {\n",
       "        vertical-align: top;\n",
       "    }\n",
       "\n",
       "    .dataframe thead th {\n",
       "        text-align: right;\n",
       "    }\n",
       "</style>\n",
       "<table border=\"1\" class=\"dataframe\">\n",
       "  <thead>\n",
       "    <tr style=\"text-align: right;\">\n",
       "      <th></th>\n",
       "      <th>NO</th>\n",
       "      <th>KELUHAN</th>\n",
       "      <th>SENTIMEN</th>\n",
       "      <th>KATEGORI</th>\n",
       "    </tr>\n",
       "  </thead>\n",
       "  <tbody>\n",
       "    <tr>\n",
       "      <td>0</td>\n",
       "      <td>1</td>\n",
       "      <td>Beberapa dosen kadang kurang menguasai materi ...</td>\n",
       "      <td>Negatif</td>\n",
       "      <td>TENAGA PENGAJAR (DOSEN)</td>\n",
       "    </tr>\n",
       "    <tr>\n",
       "      <td>1</td>\n",
       "      <td>2</td>\n",
       "      <td>Masih ada beberapa dosen yg kalo ngajar kurang...</td>\n",
       "      <td>Negatif</td>\n",
       "      <td>TENAGA PENGAJAR (DOSEN)</td>\n",
       "    </tr>\n",
       "    <tr>\n",
       "      <td>2</td>\n",
       "      <td>3</td>\n",
       "      <td>Terkait dosen pembimbing TA kadang terlalu pas...</td>\n",
       "      <td>Negatif</td>\n",
       "      <td>TENAGA PENGAJAR (DOSEN)</td>\n",
       "    </tr>\n",
       "    <tr>\n",
       "      <td>3</td>\n",
       "      <td>4</td>\n",
       "      <td>Dosen sulit untuk dihubungi untuk bimbingan t...</td>\n",
       "      <td>Negatif</td>\n",
       "      <td>TENAGA PENGAJAR (DOSEN)</td>\n",
       "    </tr>\n",
       "    <tr>\n",
       "      <td>4</td>\n",
       "      <td>5</td>\n",
       "      <td>kartu hasil studi belum bisa dicetak karna bel...</td>\n",
       "      <td>Negatif</td>\n",
       "      <td>AKADEMIK</td>\n",
       "    </tr>\n",
       "    <tr>\n",
       "      <td>5</td>\n",
       "      <td>6</td>\n",
       "      <td>Dosen harap fast respon</td>\n",
       "      <td>Negatif</td>\n",
       "      <td>TENAGA PENGAJAR (DOSEN)</td>\n",
       "    </tr>\n",
       "    <tr>\n",
       "      <td>6</td>\n",
       "      <td>7</td>\n",
       "      <td>Beberapa dosen yang mengajar itu seenaknya saj...</td>\n",
       "      <td>Negatif</td>\n",
       "      <td>TENAGA PENGAJAR (DOSEN)</td>\n",
       "    </tr>\n",
       "    <tr>\n",
       "      <td>7</td>\n",
       "      <td>8</td>\n",
       "      <td>Jangan anggap kami mahasiswa, paham semua keti...</td>\n",
       "      <td>Negatif</td>\n",
       "      <td>TENAGA PENGAJAR (DOSEN)</td>\n",
       "    </tr>\n",
       "  </tbody>\n",
       "</table>\n",
       "</div>"
      ],
      "text/plain": [
       "   NO                                            KELUHAN SENTIMEN  \\\n",
       "0   1  Beberapa dosen kadang kurang menguasai materi ...  Negatif   \n",
       "1   2  Masih ada beberapa dosen yg kalo ngajar kurang...  Negatif   \n",
       "2   3  Terkait dosen pembimbing TA kadang terlalu pas...  Negatif   \n",
       "3   4   Dosen sulit untuk dihubungi untuk bimbingan t...  Negatif   \n",
       "4   5  kartu hasil studi belum bisa dicetak karna bel...  Negatif   \n",
       "5   6                            Dosen harap fast respon  Negatif   \n",
       "6   7  Beberapa dosen yang mengajar itu seenaknya saj...  Negatif   \n",
       "7   8  Jangan anggap kami mahasiswa, paham semua keti...  Negatif   \n",
       "\n",
       "                  KATEGORI  \n",
       "0  TENAGA PENGAJAR (DOSEN)  \n",
       "1  TENAGA PENGAJAR (DOSEN)  \n",
       "2  TENAGA PENGAJAR (DOSEN)  \n",
       "3  TENAGA PENGAJAR (DOSEN)  \n",
       "4                 AKADEMIK  \n",
       "5  TENAGA PENGAJAR (DOSEN)  \n",
       "6  TENAGA PENGAJAR (DOSEN)  \n",
       "7  TENAGA PENGAJAR (DOSEN)  "
      ]
     },
     "execution_count": 102,
     "metadata": {},
     "output_type": "execute_result"
    }
   ],
   "source": [
    "data.head(8)"
   ]
  },
  {
   "cell_type": "code",
   "execution_count": 103,
   "metadata": {},
   "outputs": [
    {
     "data": {
      "text/html": [
       "<div>\n",
       "<style scoped>\n",
       "    .dataframe tbody tr th:only-of-type {\n",
       "        vertical-align: middle;\n",
       "    }\n",
       "\n",
       "    .dataframe tbody tr th {\n",
       "        vertical-align: top;\n",
       "    }\n",
       "\n",
       "    .dataframe thead th {\n",
       "        text-align: right;\n",
       "    }\n",
       "</style>\n",
       "<table border=\"1\" class=\"dataframe\">\n",
       "  <thead>\n",
       "    <tr style=\"text-align: right;\">\n",
       "      <th></th>\n",
       "      <th>NO</th>\n",
       "      <th>KELUHAN</th>\n",
       "      <th>SENTIMEN</th>\n",
       "      <th>KATEGORI</th>\n",
       "    </tr>\n",
       "  </thead>\n",
       "  <tbody>\n",
       "    <tr>\n",
       "      <td>343</td>\n",
       "      <td>344</td>\n",
       "      <td>Dulu masih bisa ngeprint kertas di baak tapi s...</td>\n",
       "      <td>Negatif</td>\n",
       "      <td>AKADEMIK</td>\n",
       "    </tr>\n",
       "    <tr>\n",
       "      <td>344</td>\n",
       "      <td>345</td>\n",
       "      <td>Keterlaluan, sudah melakukan pembayaran tapi p...</td>\n",
       "      <td>Negatif</td>\n",
       "      <td>KEUANGAN</td>\n",
       "    </tr>\n",
       "    <tr>\n",
       "      <td>345</td>\n",
       "      <td>346</td>\n",
       "      <td>Fasilitasnnya di perbaiki dong, masa toilet ko...</td>\n",
       "      <td>Negatif</td>\n",
       "      <td>SARANA PRASARANA</td>\n",
       "    </tr>\n",
       "  </tbody>\n",
       "</table>\n",
       "</div>"
      ],
      "text/plain": [
       "      NO                                            KELUHAN SENTIMEN  \\\n",
       "343  344  Dulu masih bisa ngeprint kertas di baak tapi s...  Negatif   \n",
       "344  345  Keterlaluan, sudah melakukan pembayaran tapi p...  Negatif   \n",
       "345  346  Fasilitasnnya di perbaiki dong, masa toilet ko...  Negatif   \n",
       "\n",
       "             KATEGORI  \n",
       "343          AKADEMIK  \n",
       "344          KEUANGAN  \n",
       "345  SARANA PRASARANA  "
      ]
     },
     "execution_count": 103,
     "metadata": {},
     "output_type": "execute_result"
    }
   ],
   "source": [
    "data.tail(3)"
   ]
  },
  {
   "cell_type": "code",
   "execution_count": 104,
   "metadata": {},
   "outputs": [
    {
     "data": {
      "text/html": [
       "<div>\n",
       "<style scoped>\n",
       "    .dataframe tbody tr th:only-of-type {\n",
       "        vertical-align: middle;\n",
       "    }\n",
       "\n",
       "    .dataframe tbody tr th {\n",
       "        vertical-align: top;\n",
       "    }\n",
       "\n",
       "    .dataframe thead th {\n",
       "        text-align: right;\n",
       "    }\n",
       "</style>\n",
       "<table border=\"1\" class=\"dataframe\">\n",
       "  <thead>\n",
       "    <tr style=\"text-align: right;\">\n",
       "      <th></th>\n",
       "      <th>NO</th>\n",
       "      <th>KELUHAN</th>\n",
       "      <th>SENTIMEN</th>\n",
       "      <th>KATEGORI</th>\n",
       "    </tr>\n",
       "  </thead>\n",
       "  <tbody>\n",
       "    <tr>\n",
       "      <td>1</td>\n",
       "      <td>2</td>\n",
       "      <td>Masih ada beberapa dosen yg kalo ngajar kurang...</td>\n",
       "      <td>Negatif</td>\n",
       "      <td>TENAGA PENGAJAR (DOSEN)</td>\n",
       "    </tr>\n",
       "    <tr>\n",
       "      <td>274</td>\n",
       "      <td>275</td>\n",
       "      <td>Kadang unit kegiatan mahasiswa butuh trasporta...</td>\n",
       "      <td>Negatif</td>\n",
       "      <td>SARANA PRASARANA</td>\n",
       "    </tr>\n",
       "    <tr>\n",
       "      <td>214</td>\n",
       "      <td>215</td>\n",
       "      <td>Beruntungnya saya dapat kesempatan belajar di ...</td>\n",
       "      <td>Positif</td>\n",
       "      <td>TENAGA PENGAJAR (DOSEN)</td>\n",
       "    </tr>\n",
       "    <tr>\n",
       "      <td>295</td>\n",
       "      <td>296</td>\n",
       "      <td>Mushala kurang besar</td>\n",
       "      <td>Negatif</td>\n",
       "      <td>SARANA PRASARANA</td>\n",
       "    </tr>\n",
       "    <tr>\n",
       "      <td>330</td>\n",
       "      <td>331</td>\n",
       "      <td>Kurikulum yang saya dapat dikampus ini kurikul...</td>\n",
       "      <td>Negatif</td>\n",
       "      <td>AKADEMIK</td>\n",
       "    </tr>\n",
       "  </tbody>\n",
       "</table>\n",
       "</div>"
      ],
      "text/plain": [
       "      NO                                            KELUHAN SENTIMEN  \\\n",
       "1      2  Masih ada beberapa dosen yg kalo ngajar kurang...  Negatif   \n",
       "274  275  Kadang unit kegiatan mahasiswa butuh trasporta...  Negatif   \n",
       "214  215  Beruntungnya saya dapat kesempatan belajar di ...  Positif   \n",
       "295  296                               Mushala kurang besar  Negatif   \n",
       "330  331  Kurikulum yang saya dapat dikampus ini kurikul...  Negatif   \n",
       "\n",
       "                    KATEGORI  \n",
       "1    TENAGA PENGAJAR (DOSEN)  \n",
       "274         SARANA PRASARANA  \n",
       "214  TENAGA PENGAJAR (DOSEN)  \n",
       "295         SARANA PRASARANA  \n",
       "330                 AKADEMIK  "
      ]
     },
     "execution_count": 104,
     "metadata": {},
     "output_type": "execute_result"
    }
   ],
   "source": [
    "data.sample(5)"
   ]
  },
  {
   "cell_type": "code",
   "execution_count": 105,
   "metadata": {},
   "outputs": [
    {
     "data": {
      "text/html": [
       "<div>\n",
       "<style scoped>\n",
       "    .dataframe tbody tr th:only-of-type {\n",
       "        vertical-align: middle;\n",
       "    }\n",
       "\n",
       "    .dataframe tbody tr th {\n",
       "        vertical-align: top;\n",
       "    }\n",
       "\n",
       "    .dataframe thead th {\n",
       "        text-align: right;\n",
       "    }\n",
       "</style>\n",
       "<table border=\"1\" class=\"dataframe\">\n",
       "  <thead>\n",
       "    <tr style=\"text-align: right;\">\n",
       "      <th></th>\n",
       "      <th>NO</th>\n",
       "    </tr>\n",
       "  </thead>\n",
       "  <tbody>\n",
       "    <tr>\n",
       "      <td>count</td>\n",
       "      <td>346.00000</td>\n",
       "    </tr>\n",
       "    <tr>\n",
       "      <td>mean</td>\n",
       "      <td>173.50000</td>\n",
       "    </tr>\n",
       "    <tr>\n",
       "      <td>std</td>\n",
       "      <td>100.02583</td>\n",
       "    </tr>\n",
       "    <tr>\n",
       "      <td>min</td>\n",
       "      <td>1.00000</td>\n",
       "    </tr>\n",
       "    <tr>\n",
       "      <td>25%</td>\n",
       "      <td>87.25000</td>\n",
       "    </tr>\n",
       "    <tr>\n",
       "      <td>50%</td>\n",
       "      <td>173.50000</td>\n",
       "    </tr>\n",
       "    <tr>\n",
       "      <td>75%</td>\n",
       "      <td>259.75000</td>\n",
       "    </tr>\n",
       "    <tr>\n",
       "      <td>max</td>\n",
       "      <td>346.00000</td>\n",
       "    </tr>\n",
       "  </tbody>\n",
       "</table>\n",
       "</div>"
      ],
      "text/plain": [
       "              NO\n",
       "count  346.00000\n",
       "mean   173.50000\n",
       "std    100.02583\n",
       "min      1.00000\n",
       "25%     87.25000\n",
       "50%    173.50000\n",
       "75%    259.75000\n",
       "max    346.00000"
      ]
     },
     "execution_count": 105,
     "metadata": {},
     "output_type": "execute_result"
    }
   ],
   "source": [
    "#datanya secara deskriptif\n",
    "data.describe()"
   ]
  },
  {
   "cell_type": "code",
   "execution_count": 106,
   "metadata": {},
   "outputs": [
    {
     "data": {
      "text/plain": [
       "Index(['NO', 'KELUHAN', 'SENTIMEN', 'KATEGORI'], dtype='object')"
      ]
     },
     "execution_count": 106,
     "metadata": {},
     "output_type": "execute_result"
    }
   ],
   "source": [
    "#melihat kolom yang ada\n",
    "data.columns"
   ]
  },
  {
   "cell_type": "code",
   "execution_count": 107,
   "metadata": {},
   "outputs": [
    {
     "data": {
      "text/plain": [
       "SARANA PRASARANA           148\n",
       "TENAGA PENGAJAR (DOSEN)     76\n",
       "AKADEMIK                    67\n",
       "KEUANGAN                    55\n",
       "Name: KATEGORI, dtype: int64"
      ]
     },
     "execution_count": 107,
     "metadata": {},
     "output_type": "execute_result"
    }
   ],
   "source": [
    "# menghitung variabel kategorik pada kolom Is_Response\n",
    "data['KATEGORI'].value_counts()"
   ]
  },
  {
   "cell_type": "code",
   "execution_count": 108,
   "metadata": {},
   "outputs": [],
   "source": [
    "#Create Train and Tes\n",
    "from sklearn.model_selection import train_test_split"
   ]
  },
  {
   "cell_type": "code",
   "execution_count": 109,
   "metadata": {},
   "outputs": [],
   "source": [
    "X=data.KELUHAN\n",
    "y=data.KATEGORI"
   ]
  },
  {
   "cell_type": "code",
   "execution_count": 110,
   "metadata": {},
   "outputs": [],
   "source": [
    "x_train, x_test, y_train, y_test = train_test_split(X,y,test_size=0.1, random_state=225)"
   ]
  },
  {
   "cell_type": "code",
   "execution_count": 111,
   "metadata": {},
   "outputs": [
    {
     "name": "stdout",
     "output_type": "stream",
     "text": [
      "Banyak data x_train : 311\n",
      "Banyak data x_test  : 35\n",
      "Banyak data y_train : 311\n",
      "Banyak data y_test  : 35\n"
     ]
    }
   ],
   "source": [
    "print('Banyak data x_train :',len(x_train))\n",
    "print('Banyak data x_test  :',len(x_test))\n",
    "print('Banyak data y_train :',len(y_train))\n",
    "print('Banyak data y_test  :',len(y_test))"
   ]
  },
  {
   "cell_type": "code",
   "execution_count": 112,
   "metadata": {},
   "outputs": [],
   "source": [
    "#Text Pre-Processing\n",
    "import string\n",
    "\n",
    "#Fungsi untuk merubah kalimat menjadi lower case dan\n",
    "#menghilangkan spesial karakter/tanda baca\n",
    "def lower_case(teks):\n",
    "    return teks.translate(str.maketrans('','',string.punctuation)).lower().strip()\n",
    "#lower_case('Saya MEmakan nasi tadi pagi !. @ #')"
   ]
  },
  {
   "cell_type": "code",
   "execution_count": 113,
   "metadata": {},
   "outputs": [],
   "source": [
    "#Remove StopWord / useless word\n",
    "from nltk.tokenize import sent_tokenize, word_tokenize\n",
    "from nltk.corpus import stopwords\n",
    "def remove_stop_words(teks):\n",
    "    tokens = word_tokenize(teks)\n",
    "    listStopword =  set(stopwords.words('indonesian'))\n",
    "    \n",
    "    teks_hasil = []\n",
    "    for t in tokens:\n",
    "        if t not in listStopword:\n",
    "            teks_hasil.append(t)\n",
    "    teks_bersih = \" \".join([word for word in teks_hasil])\n",
    "    return teks_bersih\n",
    "\n",
    "#remove_stop_words('Siapa sih yang tidak tau Afgan')"
   ]
  },
  {
   "cell_type": "code",
   "execution_count": 114,
   "metadata": {},
   "outputs": [],
   "source": [
    "#Stemming Bahasa Indonesia\n",
    "from Sastrawi.Stemmer.StemmerFactory import StemmerFactory\n",
    "\n",
    "factory = StemmerFactory()\n",
    "stemmer = factory.create_stemmer()\n",
    "\n",
    "def stemming_indo(teks):\n",
    "    hasil = stemmer.stem(teks)\n",
    "    return hasil\n",
    "\n",
    "#stemming_indo('Membanggakan, menunda, mengejek')"
   ]
  },
  {
   "cell_type": "code",
   "execution_count": 115,
   "metadata": {},
   "outputs": [],
   "source": [
    "#Fungsi data_preprocessing\n",
    "def data_preprocessing(teks):\n",
    "    hasil_lower = lower_case(teks)\n",
    "    hasil_stopwords= remove_stop_words(hasil_lower)\n",
    "    kalimat_bersih = stemming_indo(hasil_stopwords)\n",
    "    \n",
    "    return kalimat_bersih"
   ]
  },
  {
   "cell_type": "code",
   "execution_count": 116,
   "metadata": {},
   "outputs": [],
   "source": [
    "#Tambah 1 Column Baru untu menyimpan data yg sudah dibersihkan\n",
    "\n",
    "x=[]\n",
    "for teks in data.KELUHAN:\n",
    "    x.append(data_preprocessing(teks))"
   ]
  },
  {
   "cell_type": "code",
   "execution_count": 117,
   "metadata": {},
   "outputs": [],
   "source": [
    "clean_text=pd.DataFrame({'clean_text':x})"
   ]
  },
  {
   "cell_type": "code",
   "execution_count": 118,
   "metadata": {},
   "outputs": [],
   "source": [
    "data=pd.concat([data,clean_text],axis=1)"
   ]
  },
  {
   "cell_type": "code",
   "execution_count": 119,
   "metadata": {},
   "outputs": [
    {
     "data": {
      "text/html": [
       "<div>\n",
       "<style scoped>\n",
       "    .dataframe tbody tr th:only-of-type {\n",
       "        vertical-align: middle;\n",
       "    }\n",
       "\n",
       "    .dataframe tbody tr th {\n",
       "        vertical-align: top;\n",
       "    }\n",
       "\n",
       "    .dataframe thead th {\n",
       "        text-align: right;\n",
       "    }\n",
       "</style>\n",
       "<table border=\"1\" class=\"dataframe\">\n",
       "  <thead>\n",
       "    <tr style=\"text-align: right;\">\n",
       "      <th></th>\n",
       "      <th>NO</th>\n",
       "      <th>KELUHAN</th>\n",
       "      <th>SENTIMEN</th>\n",
       "      <th>KATEGORI</th>\n",
       "      <th>clean_text</th>\n",
       "    </tr>\n",
       "  </thead>\n",
       "  <tbody>\n",
       "    <tr>\n",
       "      <td>0</td>\n",
       "      <td>1</td>\n",
       "      <td>Beberapa dosen kadang kurang menguasai materi ...</td>\n",
       "      <td>Negatif</td>\n",
       "      <td>TENAGA PENGAJAR (DOSEN)</td>\n",
       "      <td>dosen kadang kuasa materi ajar dosen kreatif</td>\n",
       "    </tr>\n",
       "    <tr>\n",
       "      <td>1</td>\n",
       "      <td>2</td>\n",
       "      <td>Masih ada beberapa dosen yg kalo ngajar kurang...</td>\n",
       "      <td>Negatif</td>\n",
       "      <td>TENAGA PENGAJAR (DOSEN)</td>\n",
       "      <td>dosen yg kalo ngajar d paham</td>\n",
       "    </tr>\n",
       "    <tr>\n",
       "      <td>2</td>\n",
       "      <td>3</td>\n",
       "      <td>Terkait dosen pembimbing TA kadang terlalu pas...</td>\n",
       "      <td>Negatif</td>\n",
       "      <td>TENAGA PENGAJAR (DOSEN)</td>\n",
       "      <td>kait dosen bimbing ta kadang pasif benerbener ...</td>\n",
       "    </tr>\n",
       "    <tr>\n",
       "      <td>3</td>\n",
       "      <td>4</td>\n",
       "      <td>Dosen sulit untuk dihubungi untuk bimbingan t...</td>\n",
       "      <td>Negatif</td>\n",
       "      <td>TENAGA PENGAJAR (DOSEN)</td>\n",
       "      <td>dosen sulit hubung bimbing tugas 3x24 jam bale...</td>\n",
       "    </tr>\n",
       "    <tr>\n",
       "      <td>4</td>\n",
       "      <td>5</td>\n",
       "      <td>kartu hasil studi belum bisa dicetak karna bel...</td>\n",
       "      <td>Negatif</td>\n",
       "      <td>AKADEMIK</td>\n",
       "      <td>kartu hasil studi cetak karna buka evaluasi do...</td>\n",
       "    </tr>\n",
       "  </tbody>\n",
       "</table>\n",
       "</div>"
      ],
      "text/plain": [
       "   NO                                            KELUHAN SENTIMEN  \\\n",
       "0   1  Beberapa dosen kadang kurang menguasai materi ...  Negatif   \n",
       "1   2  Masih ada beberapa dosen yg kalo ngajar kurang...  Negatif   \n",
       "2   3  Terkait dosen pembimbing TA kadang terlalu pas...  Negatif   \n",
       "3   4   Dosen sulit untuk dihubungi untuk bimbingan t...  Negatif   \n",
       "4   5  kartu hasil studi belum bisa dicetak karna bel...  Negatif   \n",
       "\n",
       "                  KATEGORI                                         clean_text  \n",
       "0  TENAGA PENGAJAR (DOSEN)       dosen kadang kuasa materi ajar dosen kreatif  \n",
       "1  TENAGA PENGAJAR (DOSEN)                       dosen yg kalo ngajar d paham  \n",
       "2  TENAGA PENGAJAR (DOSEN)  kait dosen bimbing ta kadang pasif benerbener ...  \n",
       "3  TENAGA PENGAJAR (DOSEN)  dosen sulit hubung bimbing tugas 3x24 jam bale...  \n",
       "4                 AKADEMIK  kartu hasil studi cetak karna buka evaluasi do...  "
      ]
     },
     "execution_count": 119,
     "metadata": {},
     "output_type": "execute_result"
    }
   ],
   "source": [
    "data.head(5)"
   ]
  },
  {
   "cell_type": "code",
   "execution_count": 120,
   "metadata": {},
   "outputs": [],
   "source": [
    "#Feature Extraction / Vectorizer\n",
    "from sklearn.feature_extraction.text import TfidfVectorizer\n",
    "\n",
    "tvec=TfidfVectorizer()"
   ]
  },
  {
   "cell_type": "code",
   "execution_count": 121,
   "metadata": {},
   "outputs": [
    {
     "data": {
      "text/plain": [
       "Pipeline(memory=None,\n",
       "         steps=[('vectorizer',\n",
       "                 TfidfVectorizer(analyzer='word', binary=False,\n",
       "                                 decode_error='strict',\n",
       "                                 dtype=<class 'numpy.float64'>,\n",
       "                                 encoding='utf-8', input='content',\n",
       "                                 lowercase=True, max_df=1.0, max_features=None,\n",
       "                                 min_df=1, ngram_range=(1, 1), norm='l2',\n",
       "                                 preprocessor=None, smooth_idf=True,\n",
       "                                 stop_words=None, strip_accents=None,\n",
       "                                 sublinear_tf=False,\n",
       "                                 token_pattern='(?u)\\\\b\\\\w\\\\w+\\\\b',\n",
       "                                 tokenizer=None, use_idf=True,\n",
       "                                 vocabulary=None)),\n",
       "                ('classifier',\n",
       "                 MultinomialNB(alpha=1.0, class_prior=None, fit_prior=True))],\n",
       "         verbose=False)"
      ]
     },
     "execution_count": 121,
     "metadata": {},
     "output_type": "execute_result"
    }
   ],
   "source": [
    "#Membuat Model. Finally Huft\n",
    "\n",
    "from sklearn.naive_bayes import MultinomialNB\n",
    "from sklearn.pipeline import Pipeline\n",
    "\n",
    "clasifiNB = MultinomialNB()\n",
    "\n",
    "modelKategori= Pipeline([('vectorizer',tvec)\n",
    "                 ,('classifier',clasifiNB)])\n",
    "\n",
    "modelKategori.fit(x_train,y_train)"
   ]
  },
  {
   "cell_type": "code",
   "execution_count": 127,
   "metadata": {},
   "outputs": [
    {
     "name": "stdout",
     "output_type": "stream",
     "text": [
      "SARANA PRASARANA\n"
     ]
    }
   ],
   "source": [
    "#Prediction\n",
    "coba = ['Ruang lab pemrograman kotor']\n",
    "hasil=modelKategori.predict(coba)\n",
    "print(hasil[0])"
   ]
  },
  {
   "cell_type": "code",
   "execution_count": 123,
   "metadata": {},
   "outputs": [
    {
     "name": "stdout",
     "output_type": "stream",
     "text": [
      "Akurasi :  0.7428571428571429\n"
     ]
    }
   ],
   "source": [
    "#Cek Akurasi\n",
    "from sklearn.metrics import accuracy_score,confusion_matrix\n",
    "#confusion_matrix(hasil,y_test)\n",
    "print('Akurasi : ',accuracy_score(hasil,y_test))"
   ]
  },
  {
   "cell_type": "code",
   "execution_count": 124,
   "metadata": {},
   "outputs": [],
   "source": [
    "import joblib"
   ]
  },
  {
   "cell_type": "code",
   "execution_count": 125,
   "metadata": {},
   "outputs": [
    {
     "data": {
      "text/plain": [
       "['modelKategori.pkl']"
      ]
     },
     "execution_count": 125,
     "metadata": {},
     "output_type": "execute_result"
    }
   ],
   "source": [
    "#Save Model\n",
    "joblib.dump(modelKategori, 'modelKategori.pkl')"
   ]
  },
  {
   "cell_type": "code",
   "execution_count": null,
   "metadata": {},
   "outputs": [],
   "source": []
  }
 ],
 "metadata": {
  "kernelspec": {
   "display_name": "Python 3",
   "language": "python",
   "name": "python3"
  },
  "language_info": {
   "codemirror_mode": {
    "name": "ipython",
    "version": 3
   },
   "file_extension": ".py",
   "mimetype": "text/x-python",
   "name": "python",
   "nbconvert_exporter": "python",
   "pygments_lexer": "ipython3",
   "version": "3.7.4"
  }
 },
 "nbformat": 4,
 "nbformat_minor": 4
}
